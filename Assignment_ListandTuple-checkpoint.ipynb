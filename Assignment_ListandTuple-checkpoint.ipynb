{
 "cells": [
  {
   "cell_type": "code",
   "execution_count": 1,
   "id": "007503fc",
   "metadata": {},
   "outputs": [],
   "source": [
    "# student marks\n",
    "student_marks = [['Name',  ['A','B','C','D','E']],\n",
    "                 ['Ankit',  [41, 34, 45, 55, 63]],\n",
    "                 ['Aravind',[42, 23, 34, 44, 53]],\n",
    "                 ['Lakshay',[32, 23, 13, 54, 67]],\n",
    "                 ['Gyan',   [23, 82, 23, 63, 34]],\n",
    "                 ['Pranav', [21, 23, 25, 56, 56]]\n",
    "                ]"
   ]
  },
  {
   "cell_type": "code",
   "execution_count": 21,
   "id": "2f100770",
   "metadata": {},
   "outputs": [
    {
     "name": "stdout",
     "output_type": "stream",
     "text": [
      "Ankit\n",
      "34\n",
      "Aravind\n",
      "23\n",
      "Lakshay\n",
      "23\n",
      "Gyan\n",
      "82\n",
      "Pranav\n",
      "23\n"
     ]
    }
   ],
   "source": [
    "marksB=[]\n",
    "for student in student_marks[1:]:\n",
    "    print(student[0])\n",
    "    print(student[1][1])\n",
    "    marksB.append([student[1][1],student[0]])\n",
    "    \n",
    "    "
   ]
  },
  {
   "cell_type": "code",
   "execution_count": 23,
   "id": "1fa2249e",
   "metadata": {},
   "outputs": [],
   "source": [
    "sorted_list=sorted(marksB)"
   ]
  },
  {
   "cell_type": "code",
   "execution_count": 25,
   "id": "eff7bb4b",
   "metadata": {},
   "outputs": [
    {
     "data": {
      "text/plain": [
       "[82, 'Gyan']"
      ]
     },
     "execution_count": 25,
     "metadata": {},
     "output_type": "execute_result"
    }
   ],
   "source": [
    "sorted_list[-1]"
   ]
  },
  {
   "cell_type": "code",
   "execution_count": 39,
   "id": "e1289154",
   "metadata": {},
   "outputs": [],
   "source": [
    "marks_in_c=[]\n"
   ]
  },
  {
   "cell_type": "code",
   "execution_count": 40,
   "id": "2bba4fd1",
   "metadata": {},
   "outputs": [],
   "source": [
    "for student in student_marks[1:]:\n",
    "    marks_in_c.append([student[1][3]])\n",
    "    "
   ]
  },
  {
   "cell_type": "code",
   "execution_count": 41,
   "id": "e906f20a",
   "metadata": {},
   "outputs": [
    {
     "data": {
      "text/plain": [
       "[[55], [44], [54], [63], [56]]"
      ]
     },
     "execution_count": 41,
     "metadata": {},
     "output_type": "execute_result"
    }
   ],
   "source": [
    "marks_in_c"
   ]
  },
  {
   "cell_type": "code",
   "execution_count": 53,
   "id": "3692e296",
   "metadata": {},
   "outputs": [],
   "source": [
    "temp=0\n",
    "count=0"
   ]
  },
  {
   "cell_type": "code",
   "execution_count": 54,
   "id": "ba31586e",
   "metadata": {},
   "outputs": [],
   "source": [
    "for marks in marks_in_c:\n",
    "    i=marks[0]\n",
    "    temp=temp+int(i)\n",
    "    count=count+1"
   ]
  },
  {
   "cell_type": "code",
   "execution_count": 55,
   "id": "31d11b0c",
   "metadata": {},
   "outputs": [],
   "source": [
    "average_of_marks_in_c=temp/count"
   ]
  },
  {
   "cell_type": "code",
   "execution_count": 56,
   "id": "97e38237",
   "metadata": {},
   "outputs": [
    {
     "data": {
      "text/plain": [
       "54.4"
      ]
     },
     "execution_count": 56,
     "metadata": {},
     "output_type": "execute_result"
    }
   ],
   "source": [
    "average_of_marks_in_c"
   ]
  },
  {
   "cell_type": "code",
   "execution_count": 73,
   "id": "e9f46469",
   "metadata": {},
   "outputs": [],
   "source": [
    "percentage=[]"
   ]
  },
  {
   "cell_type": "code",
   "execution_count": 74,
   "id": "a5ca6c4b",
   "metadata": {},
   "outputs": [],
   "source": [
    "for student in student_marks[1:]:\n",
    "    percentage.append([(sum(student[1])/500*100),student[0]])"
   ]
  },
  {
   "cell_type": "code",
   "execution_count": 75,
   "id": "de608de9",
   "metadata": {},
   "outputs": [
    {
     "data": {
      "text/plain": [
       "[[47.599999999999994, 'Ankit'],\n",
       " [39.2, 'Aravind'],\n",
       " [37.8, 'Lakshay'],\n",
       " [45.0, 'Gyan'],\n",
       " [36.199999999999996, 'Pranav']]"
      ]
     },
     "execution_count": 75,
     "metadata": {},
     "output_type": "execute_result"
    }
   ],
   "source": [
    "percentage"
   ]
  },
  {
   "cell_type": "code",
   "execution_count": 78,
   "id": "70280960",
   "metadata": {},
   "outputs": [],
   "source": [
    "sorted_percentage=sorted(percentage)"
   ]
  },
  {
   "cell_type": "code",
   "execution_count": 79,
   "id": "9133c52b",
   "metadata": {},
   "outputs": [
    {
     "data": {
      "text/plain": [
       "[47.599999999999994, 'Ankit']"
      ]
     },
     "execution_count": 79,
     "metadata": {},
     "output_type": "execute_result"
    }
   ],
   "source": [
    "sorted_percentage[-1]"
   ]
  },
  {
   "cell_type": "code",
   "execution_count": 84,
   "id": "0424fc5d",
   "metadata": {},
   "outputs": [],
   "source": [
    "top_4=[]\n",
    "sorted_marks=[]"
   ]
  },
  {
   "cell_type": "code",
   "execution_count": 88,
   "id": "758e363c",
   "metadata": {},
   "outputs": [],
   "source": [
    "for student in student_marks[1:]:\n",
    "    sorted_marks=sorted(student[1])\n",
    "    top_4.append([student[0],sorted_marks])"
   ]
  },
  {
   "cell_type": "code",
   "execution_count": 94,
   "id": "ef4c1ea1",
   "metadata": {},
   "outputs": [
    {
     "data": {
      "text/plain": [
       "[['Ankit', [34, 41, 45, 55, 63]],\n",
       " ['Aravind', [23, 34, 42, 44, 53]],\n",
       " ['Lakshay', [13, 23, 32, 54, 67]],\n",
       " ['Gyan', [23, 23, 34, 63, 82]],\n",
       " ['Pranav', [21, 23, 25, 56, 56]]]"
      ]
     },
     "execution_count": 94,
     "metadata": {},
     "output_type": "execute_result"
    }
   ],
   "source": [
    "top_4"
   ]
  },
  {
   "cell_type": "code",
   "execution_count": 100,
   "id": "2b2cb3d6",
   "metadata": {},
   "outputs": [
    {
     "data": {
      "text/plain": [
       "[41, 45, 55, 63]"
      ]
     },
     "execution_count": 100,
     "metadata": {},
     "output_type": "execute_result"
    }
   ],
   "source": [
    "top_4[0][1][1:5]"
   ]
  },
  {
   "cell_type": "code",
   "execution_count": 111,
   "id": "225c6c08",
   "metadata": {},
   "outputs": [],
   "source": [
    "final_list=[]"
   ]
  },
  {
   "cell_type": "code",
   "execution_count": 113,
   "id": "1354c07f",
   "metadata": {},
   "outputs": [
    {
     "name": "stdout",
     "output_type": "stream",
     "text": [
      "0 ['Ankit', [34, 41, 45, 55, 63]]\n",
      "1 ['Aravind', [23, 34, 42, 44, 53]]\n",
      "2 ['Lakshay', [13, 23, 32, 54, 67]]\n",
      "3 ['Gyan', [23, 23, 34, 63, 82]]\n",
      "4 ['Pranav', [21, 23, 25, 56, 56]]\n"
     ]
    }
   ],
   "source": [
    "for index,student in enumerate(top_4):\n",
    "    print(index,student)\n",
    "    final_list.append([top_4[index][1][1:5],top_4[index][0]])"
   ]
  },
  {
   "cell_type": "code",
   "execution_count": 115,
   "id": "528ec45b",
   "metadata": {},
   "outputs": [],
   "source": [
    "percentage_top_4=[]"
   ]
  },
  {
   "cell_type": "code",
   "execution_count": 116,
   "id": "627e78cc",
   "metadata": {},
   "outputs": [],
   "source": [
    "for i in final_list[1:]:\n",
    "    percentage_top_4.append([(sum(i[0])/400*100),i[1]])"
   ]
  },
  {
   "cell_type": "code",
   "execution_count": 118,
   "id": "5493aeee",
   "metadata": {},
   "outputs": [],
   "source": [
    "sorted_top_4=sorted(percentage_top_4)"
   ]
  },
  {
   "cell_type": "code",
   "execution_count": 120,
   "id": "07b89dca",
   "metadata": {},
   "outputs": [
    {
     "data": {
      "text/plain": [
       "[50.5, 'Gyan']"
      ]
     },
     "execution_count": 120,
     "metadata": {},
     "output_type": "execute_result"
    }
   ],
   "source": [
    "sorted_top_4[-1]"
   ]
  }
 ],
 "metadata": {
  "kernelspec": {
   "display_name": "Python 3 (ipykernel)",
   "language": "python",
   "name": "python3"
  },
  "language_info": {
   "codemirror_mode": {
    "name": "ipython",
    "version": 3
   },
   "file_extension": ".py",
   "mimetype": "text/x-python",
   "name": "python",
   "nbconvert_exporter": "python",
   "pygments_lexer": "ipython3",
   "version": "3.9.12"
  }
 },
 "nbformat": 4,
 "nbformat_minor": 5
}
